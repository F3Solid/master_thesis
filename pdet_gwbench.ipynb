{
 "cells": [
  {
   "cell_type": "code",
   "execution_count": 1,
   "id": "f89927cb-5205-4ca6-9091-d6906bcec932",
   "metadata": {},
   "outputs": [
    {
     "name": "stderr",
     "output_type": "stream",
     "text": [
      "/data/fdesanti/fleto/master_thesis/box/lib/python3.11/site-packages/gwbench/basic_relations.py:20: UserWarning: Wswiglal-redir-stdio:\n",
      "\n",
      "SWIGLAL standard output/error redirection is enabled in IPython.\n",
      "This may lead to performance penalties. To disable locally, use:\n",
      "\n",
      "with lal.no_swig_redirect_standard_output_error():\n",
      "    ...\n",
      "\n",
      "To disable globally, use:\n",
      "\n",
      "lal.swig_redirect_standard_output_error(False)\n",
      "\n",
      "Note however that this will likely lead to error messages from\n",
      "LAL functions being either misdirected or lost when called from\n",
      "Jupyter notebooks.\n",
      "\n",
      "To suppress this warning, use:\n",
      "\n",
      "import warnings\n",
      "warnings.filterwarnings(\"ignore\", \"Wswiglal-redir-stdio\")\n",
      "import lal\n",
      "\n",
      "  from lal import GreenwichMeanSiderealTime\n"
     ]
    }
   ],
   "source": [
    "import numpy as np\n",
    "from scipy.interpolate import RegularGridInterpolator\n",
    "import matplotlib.pyplot as plt\n",
    "import matplotlib as mpl\n",
    "from comp_pdet import pdet\n",
    "from tqdm.auto import tqdm\n",
    "from joblib import Parallel, delayed\n",
    "import logging"
   ]
  },
  {
   "cell_type": "code",
   "execution_count": 2,
   "id": "c8cd64d8-c59c-4cd6-8a50-4bcbb170af82",
   "metadata": {},
   "outputs": [
    {
     "data": {
      "text/plain": [
       "1.0"
      ]
     },
     "execution_count": 2,
     "metadata": {},
     "output_type": "execute_result"
    }
   ],
   "source": [
    "pdet(8, 10, 0.3, n_samples=1e4)"
   ]
  },
  {
   "cell_type": "markdown",
   "id": "4f85747a-4884-4173-b991-442d242baaed",
   "metadata": {},
   "source": [
    "Combinations of masses and redshifts for which the detection probability is virtually 1 (0.999#) or 0 (0.000#) for a CE (US A location) + ET (Sardinia) network and SNR threshold $8 \\sqrt{2}$:\n",
    "\n",
    "* $p_\\text{det} \\simeq 1$\n",
    "    * Anything with $z \\leq 0.1$ (and $m_\\text{min} \\geq 1$)\n",
    "    * Anything with $z \\leq 1$ and $m_\\text{min} \\geq 30$\n",
    "    * Anything with $z \\leq 2$ and $m_\\text{min} \\geq 75$\n",
    "* $p_\\text{det} \\simeq 0$\n",
    "    * Anything with $z \\geq 6$ and $m_\\text{max} \\leq 10$"
   ]
  },
  {
   "cell_type": "code",
   "execution_count": 3,
   "id": "77571f15-c114-46c6-9a8f-de62bfc72aba",
   "metadata": {},
   "outputs": [],
   "source": [
    "z_min_compute = 0.1\n",
    "z_max_m_min = ((0.1, 1), (1, 30), (2, 75))\n",
    "z_min_m_max = ((6, 10),)"
   ]
  },
  {
   "cell_type": "code",
   "execution_count": 4,
   "id": "dc8a3f41-7c79-4b8a-a52c-b94aa6dcb1b3",
   "metadata": {},
   "outputs": [],
   "source": [
    "m1grid = np.concatenate((np.linspace(1, 20, 20, endpoint=False), np.linspace(20, 50, 20, endpoint=False), np.linspace(50, 100, 20)))\n",
    "m2grid = np.concatenate((np.linspace(1, 20, 20, endpoint=False), np.linspace(20, 50, 20, endpoint=False), np.linspace(50, 100, 20)))\n",
    "zgrid = np.concatenate((np.geomspace(1e-4, 1e-1, 100, endpoint=False), np.geomspace(1e-1, 1, 50, endpoint=False), np.geomspace(1, 10, 50)))\n",
    "\n",
    "grids = (m1grid, m2grid, zgrid)\n",
    "pdet_for_interpolant = np.zeros([len(grid) for grid in grids])"
   ]
  },
  {
   "cell_type": "raw",
   "id": "62b77b20-e4d9-47c9-9306-650586975bb7",
   "metadata": {},
   "source": [
    "meshcoord = []\n",
    "meshgrid = []\n",
    "for i, m1 in enumerate(m1grid):\n",
    "        for j, m2 in enumerate(m2grid):\n",
    "            for k, z in enumerate(zgrid):\n",
    "                if z <= z_min_compute:\n",
    "                    pdet_for_interpolant[i, j, k] = 1\n",
    "                else:\n",
    "                    meshcoord.append((i, j, k))\n",
    "                    meshgrid.append((m1 ,m2, z))\n",
    "\n",
    "meshcoord = np.array(meshcoord)\n",
    "meshgrid = np.array(meshgrid)\n",
    "\n",
    "# Shuffle the arrays to better ditribute load across processors\n",
    "p = np.random.permutation(len(meshcoord))\n",
    "\n",
    "meshcoord = meshcoord[p]\n",
    "meshgrid = meshgrid[p]\n",
    "\n",
    "print(np.prod(pdet_for_interpolant.shape), meshcoord.shape)"
   ]
  },
  {
   "cell_type": "raw",
   "id": "90f7f1d2-4948-4eac-9dc7-c7a4a5983ef8",
   "metadata": {},
   "source": [
    "meshcoord = []\n",
    "meshgrid = []\n",
    "with tqdm(total=np.prod(pdet_for_interpolant.shape), desc=\"Populating pdet_for_interpolant and meshgrid\") as pbar:\n",
    "    for i, m1 in enumerate(m1grid):\n",
    "        for j, m2 in enumerate(m2grid):\n",
    "            for k, z in enumerate(zgrid):\n",
    "                already_known=False\n",
    "                m12_min = m1 if m1 <= m2 else m2\n",
    "                for z_max, m_min in z_max_m_min:\n",
    "                    if z <= z_max and m12_min >= m_min:\n",
    "                        pdet_for_interpolant[i, j, k] = 1\n",
    "                        already_known=True\n",
    "                if not already_known:\n",
    "                    m12_max = m1 if m1 >= m2 else m2\n",
    "                    for z_min, m_max in z_min_m_max:\n",
    "                        if z >= z_min and m12_max <= m_max:\n",
    "                            already_known=True\n",
    "                if not already_known:\n",
    "                    meshcoord.append((i, j, k))\n",
    "                    meshgrid.append((m1 ,m2, z))\n",
    "                pbar.update(1)\n",
    "\n",
    "meshcoord = np.array(meshcoord)\n",
    "meshgrid = np.array(meshgrid)\n",
    "\n",
    "# Shuffle the arrays to better ditribute load across processors\n",
    "p = np.random.permutation(len(meshcoord))\n",
    "\n",
    "meshcoord = meshcoord[p]\n",
    "meshgrid = meshgrid[p]\n",
    "\n",
    "print(np.prod(pdet_for_interpolant.shape), meshcoord.shape)"
   ]
  },
  {
   "cell_type": "code",
   "execution_count": 5,
   "id": "1e140457-a1f7-484f-b95a-372349869257",
   "metadata": {},
   "outputs": [
    {
     "data": {
      "application/vnd.jupyter.widget-view+json": {
       "model_id": "22228d24b82948f3b75664786c3ed355",
       "version_major": 2,
       "version_minor": 0
      },
      "text/plain": [
       "Populating pdet_for_interpolant and meshgrid:   0%|          | 0/366000 [00:00<?, ?it/s]"
      ]
     },
     "metadata": {},
     "output_type": "display_data"
    },
    {
     "name": "stdout",
     "output_type": "stream",
     "text": [
      "720000 (151745, 3)\n"
     ]
    }
   ],
   "source": [
    "meshcoord = []\n",
    "meshgrid = []\n",
    "\n",
    "n_iter = 0\n",
    "for i, m1 in enumerate(m1grid):\n",
    "    for j, m2 in zip(range(i, len(m2grid)), m2grid[i:]):\n",
    "        for k, z in enumerate(zgrid):\n",
    "            n_iter += 1\n",
    "\n",
    "with tqdm(total=n_iter, desc=\"Populating pdet_for_interpolant and meshgrid\") as pbar:\n",
    "    for i, m1 in enumerate(m1grid):\n",
    "        for j, m2 in zip(range(i, len(m2grid)), m2grid[i:]):\n",
    "            for k, z in enumerate(zgrid):\n",
    "                already_known=False\n",
    "                m12_min = m1 if m1 <= m2 else m2\n",
    "                for z_max, m_min in z_max_m_min:\n",
    "                    if z <= z_max and m12_min >= m_min:\n",
    "                        pdet_for_interpolant[i, j, k] = 1\n",
    "                        pdet_for_interpolant[j, i, k] = 1\n",
    "                        already_known=True\n",
    "                if not already_known:\n",
    "                    m12_max = m1 if m1 >= m2 else m2\n",
    "                    for z_min, m_max in z_min_m_max:\n",
    "                        if z >= z_min and m12_max <= m_max:\n",
    "                            already_known=True\n",
    "                if not already_known:\n",
    "                    meshcoord.append((i, j, k))\n",
    "                    meshgrid.append((m1 ,m2, z))\n",
    "                pbar.update(1)\n",
    "\n",
    "meshcoord = np.array(meshcoord)\n",
    "meshgrid = np.array(meshgrid)\n",
    "\n",
    "# Shuffle the arrays to better ditribute load across processors\n",
    "p = np.random.permutation(len(meshcoord))\n",
    "\n",
    "meshcoord = meshcoord[p]\n",
    "meshgrid = meshgrid[p]\n",
    "\n",
    "print(np.prod(pdet_for_interpolant.shape), meshcoord.shape)"
   ]
  },
  {
   "cell_type": "raw",
   "id": "c6c48fc3-c55e-48db-a4c4-fb66b6db79cc",
   "metadata": {},
   "source": [
    "# Little script to check the unicity of every unordered (i, j) pair in the meshcoord\n",
    "collected_ijk = []\n",
    "for i, j, k in tqdm(meshcoord):\n",
    "    if (j, i, k) not in collected_ijk:\n",
    "        collected_ijk.append((i, j, k))\n",
    "collected_ijk = np.array(collected_ijk)\n",
    "print(collected_ijk.shape)"
   ]
  },
  {
   "cell_type": "code",
   "execution_count": 6,
   "id": "573cd6cb-71af-478a-86d4-51b6fc3c094a",
   "metadata": {},
   "outputs": [],
   "source": [
    "def compute_pdet_for_interpolant(meshgrid, meshcoord=None, m1grid=None, m2grid=None, zgrid=None, pdet_for_interpolant=None, n_sample=1e3, n_jobs=-1, verbose=11, from_checkpoint=False, save_checkpoint=False, checkpoint_file_path=\"\", save_step=100):\n",
    "    chunks_integrity_error_msg = \"Ops, something went wrong while splitting meshgrid and meshcoords. Hopefully you will never see this message.\"\n",
    "    logging.basicConfig(filename=\"pdet_gwbench_grid_making.log\",\n",
    "                        level=logging.INFO,\n",
    "                        format=\"%(asctime)s - %(levelname)s - %(message)s\")\n",
    "    if not from_checkpoint:\n",
    "        if not save_checkpoint: # Just return meshevalues\n",
    "            meshvalues = np.array(Parallel(n_jobs=n_jobs, verbose=verbose)(delayed(pdet)(m1, m2, z, n_samples=n_sample, n_jobs=1) for m1, m2, z in meshgrid))\n",
    "            return meshvalues\n",
    "        else:\n",
    "            # Check parameters\n",
    "            assert checkpoint_file_path != \"\", \"Provide a checkpoint file path. Extension is not needed if the checkpoint file doesn't exist yet.\"\n",
    "            assert meshcoord is not None, \"Provide also the meshcoord array. It will be saved in the checkpoint file.\"\n",
    "            assert meshgrid.shape == meshcoord.shape, \"Check the shapes of the arrays.\"\n",
    "            pars_present = [par is not None for par in (m1grid, m2grid, zgrid, pdet_for_interpolant)]\n",
    "            pars_are_present = True\n",
    "            for par_is_present in pars_present:\n",
    "                pars_are_present = pars_are_present and par_is_present\n",
    "            assert pars_are_present, \"Provide also the m1grid, m2grid, zgrid and pdet_for_interpolant arrays. They will be saved in the checkpoint file.\"\n",
    "            assert 1 <= save_step <= len(meshgrid), f\"The saving step must be greater than 1 and smaller than the length of meshgrid ({len(meshgrid)}).\"\n",
    "            logging.info(\"Starting pdet computation with gwbench on the provided m1, m2, z grid using checkpoint file...\")\n",
    "            logging.info(f\"Splitting grids into chunks with length of roughly {save_step}.\")\n",
    "            # Split the grid into chunks based on save_step parameter\n",
    "            mgridchunks = np.array_split(meshgrid, int(len(meshgrid) / save_step))\n",
    "            mcoordchunks = np.array_split(meshcoord, int(len(meshcoord) / save_step))\n",
    "            # Check chunks integrity\n",
    "            assert sum([len(grid) for grid in mgridchunks]) == len(meshgrid) and sum([len(grid) for grid in mcoordchunks]) == len(meshcoord), chunks_integrity_error_msg\n",
    "            chunks_lengths = [len(chunk) for chunk in mgridchunks]\n",
    "            logging.info(f\"Grids with length of {len(meshgrid)} divided into {len(mgridchunks)} chunks. \" +\n",
    "                         f\"{chunks_lengths.count(min(chunks_lengths))} with length {min(chunks_lengths)} and {chunks_lengths.count(max(chunks_lengths))} with length {max(chunks_lengths)}\")\n",
    "            \n",
    "            # Initialize results variables\n",
    "            completed_tasks = 0\n",
    "            meshvalues = np.array([])\n",
    "\n",
    "            # Initialize checkpoint file.\n",
    "            # n_sample and completed_tasks are not arrays, therefore you will need to int() the 0-dim array associated with them while reading the file\n",
    "            logging.info(f\"Initializing checkpoint file at {checkpoint_file_path}.\")\n",
    "            np.savez(checkpoint_file_path, m1grid=m1grid, m2grid=m2grid, zgrid=zgrid, pdet_for_interpolant=pdet_for_interpolant, meshgrid=meshgrid, meshcoord=meshcoord, n_sample=n_sample, meshvalues=meshvalues, completed_tasks=completed_tasks)\n",
    "            logging.info(f\"Checkpoint file created at {checkpoint_file_path}.\")\n",
    "            \n",
    "            # Compute and save the meshvalues for each chunk\n",
    "            logging.info(\"Starting pdet computation...\")\n",
    "            for i, (mgrid, mcoord) in enumerate(zip(mgridchunks, mcoordchunks)):\n",
    "                assert len(mgrid) == len(mcoord), chunks_integrity_error_msg\n",
    "                logging.info(f\"Working on chunk n. {i + 1} of {len(mgridchunks)}. {completed_tasks} of {len(meshgrid)} tasks completed.\")\n",
    "                mvalues = np.array(Parallel(n_jobs=n_jobs, verbose=verbose)(delayed(pdet)(m1, m2, z, n_samples=n_sample, n_jobs=1) for m1, m2, z in mgrid))\n",
    "                meshvalues = np.concatenate((meshvalues, mvalues))\n",
    "                completed_tasks += len(mgrid)\n",
    "                np.savez(checkpoint_file_path, m1grid=m1grid, m2grid=m2grid, zgrid=zgrid, pdet_for_interpolant=pdet_for_interpolant, meshgrid=meshgrid, meshcoord=meshcoord, n_sample=n_sample, meshvalues=meshvalues, completed_tasks=completed_tasks)\n",
    "                logging.info(\"Chunk completed. Progress saved.\")\n",
    "\n",
    "            logging.info(\"Computation completed.\")\n",
    "            # If everything went smooth, return meshvalues\n",
    "            return meshvalues\n",
    "    else: # Any parameter but for n_jobs, verbose and save_step will be ignored\n",
    "        assert checkpoint_file_path != \"\", \"Provide an existing checkpoint file path.\"\n",
    "        logging.info(\"Resuming pdet computation from checkpoint file...\")\n",
    "        # Load the checkpoint file\n",
    "        logging.info(f\"Loading the checkpoint file at {checkpoint_file_path}.\")\n",
    "        chk_file = np.load(checkpoint_file_path)\n",
    "        logging.info(f\"Checkpoint file at {checkpoint_file_path} loaded.\")\n",
    "        \n",
    "        # Check parameters\n",
    "        completed_tasks = int(chk_file['completed_tasks'])\n",
    "        meshgrid = chk_file['meshgrid']\n",
    "        if completed_tasks >= len(meshgrid):\n",
    "            chk_file.close()\n",
    "        assert completed_tasks < len(meshgrid), \"Checkpoint file exhausted. Read meshvalues from the file\"\n",
    "        assert 1 <= save_step <= len(meshgrid[completed_tasks:]), f\"The saving step must be greater than 1 and smaller than the length of the remaining meshgrid ({len(meshgrid[completed_tasks:])}).\"\n",
    "\n",
    "        # Load the remaining variables\n",
    "        n_sample = int(chk_file['n_sample'])\n",
    "        meshvalues = chk_file['meshvalues']\n",
    "        meshcoord = chk_file['meshcoord']\n",
    "        m1grid = chk_file['m1grid']\n",
    "        m2grid = chk_file['m2grid']\n",
    "        zgrid = chk_file['zgrid']\n",
    "        pdet_for_interpolant = chk_file['pdet_for_interpolant']\n",
    "        chk_file.close()\n",
    "\n",
    "        logging.info(f\"{len(meshgrid[completed_tasks:]) - completed_tasks} remaining.\")\n",
    "\n",
    "        # Split the remaining grid into chunks based on save_step parameter\n",
    "        logging.info(f\"Splitting remaining grids into chunks with length of roughly {save_step}.\")\n",
    "        mgridchunks = np.array_split(meshgrid[completed_tasks:], int(len(meshgrid[completed_tasks:]) / save_step))\n",
    "        mcoordchunks = np.array_split(meshcoord[completed_tasks:], int(len(meshcoord[completed_tasks:]) / save_step))\n",
    "        # Check chunks integrity\n",
    "        assert sum([len(grid) for grid in mgridchunks]) == len(meshgrid[completed_tasks:]) and sum([len(grid) for grid in mcoordchunks]) == len(meshcoord[completed_tasks:]), chunks_integrity_error_msg\n",
    "        chunks_lengths = [len(chunk) for chunk in mgridchunks]\n",
    "        logging.info(f\"Remaining grids with length of {len(meshgrid[completed_tasks:])} divided into {len(mgridchunks)} chunks. \" +\n",
    "                     f\"{chunks_lengths.count(min(chunks_lengths))} with length {min(chunks_lengths)} and {chunks_lengths.count(max(chunks_lengths))} with length {max(chunks_lengths)}\")\n",
    "\n",
    "        # Compute and save the meshvalues for each chunk\n",
    "        logging.info(\"Resuming pdet computation...\")\n",
    "        for i, (mgrid, mcoord) in enumerate(zip(mgridchunks, mcoordchunks)):\n",
    "            assert len(mgrid) == len(mcoord), chunks_integrity_error_msg\n",
    "            logging.info(f\"Working on chunk n. {i + 1} of {len(mgridchunks)}. {completed_tasks} of {len(meshgrid)} tasks completed.\")\n",
    "            mvalues = np.array(Parallel(n_jobs=n_jobs, verbose=verbose)(delayed(pdet)(m1, m2, z, n_samples=n_sample, n_jobs=1) for m1, m2, z in mgrid))\n",
    "            meshvalues = np.concatenate((meshvalues, mvalues))\n",
    "            completed_tasks += len(mgrid)\n",
    "            np.savez(checkpoint_file_path, m1grid=m1grid, m2grid=m2grid, zgrid=zgrid, pdet_for_interpolant=pdet_for_interpolant, meshgrid=meshgrid, meshcoord=meshcoord, n_sample=n_sample, meshvalues=meshvalues, completed_tasks=completed_tasks)\n",
    "            logging.info(\"Chunk completed. Progress saved.\")\n",
    "\n",
    "        logging.info(\"Computation completed.\")\n",
    "        if completed_tasks != len(meshgrid):\n",
    "            logging.warning(f\"There is a mismatch between the length of meshgrid ({len(meshgrid)}) and the completed tasks ({completed_tasks})\")\n",
    "        # If everything went smooth, return all the grids, both meshed and non-meshed\n",
    "        return m1grid, m2grid, zgrid, pdet_for_interpolant, meshgrid, meshcoord, meshvalues"
   ]
  },
  {
   "cell_type": "raw",
   "id": "b4e1c469-96f2-4eac-9e7f-fe3812318714",
   "metadata": {},
   "source": [
    "meshvalues = compute_pdet_for_interpolant(meshgrid, meshcoord, m1grid, m2grid, zgrid, pdet_for_interpolant, n_sample=1e2, save_checkpoint=True, save_step=75, checkpoint_file_path=\"data/pdet_computation_checkpoint.npz\", from_checkpoint=False)"
   ]
  },
  {
   "cell_type": "raw",
   "id": "52d201d5-edf6-4cd1-b934-d3da3d37b6d3",
   "metadata": {},
   "source": [
    "for ijk, val in zip(meshcoord, meshvalues):\n",
    "    pdet_for_interpolation[*ijk] = val"
   ]
  },
  {
   "cell_type": "raw",
   "id": "8445c16f-42ee-4c42-bdbd-3ce962ae2a9a",
   "metadata": {},
   "source": [
    "for ijk, val in zip(meshcoord, meshvalues):\n",
    "    i, j, k = ijk\n",
    "    pdet_for_interpolation[i, j, k] = val\n",
    "    pdet_for_interpolation[j, i, k] = val"
   ]
  },
  {
   "cell_type": "raw",
   "id": "e27cecf7-849e-49d4-bb20-5fcc22c74ddb",
   "metadata": {},
   "source": [
    "np.savez(\"data/pdet_nsamples_1e2_(attempt_2)\", m1grid=m1grid, m2grid=m2grid, zgrid=zgrid, pdet_for_interpolant=pdet_for_interpolation)"
   ]
  },
  {
   "cell_type": "code",
   "execution_count": 7,
   "id": "80a6b538-0a6f-45ad-8ccc-6e5a8aad092a",
   "metadata": {},
   "outputs": [],
   "source": [
    "file = np.load(\"data/pdet_nsamples_1e2_zmc_7e-2_(attempt_1).npz\")\n",
    "m1grid, m2grid, zgrid, pdet_for_interpolant = [file[key] for key in file.files]\n",
    "grids = (m1grid, m2grid, zgrid)"
   ]
  },
  {
   "cell_type": "code",
   "execution_count": 8,
   "id": "f42e522f-33e5-4336-b2a2-29b118281d48",
   "metadata": {},
   "outputs": [],
   "source": [
    "pdet_interpolant = RegularGridInterpolator(grids, pdet_for_interpolant)"
   ]
  },
  {
   "cell_type": "code",
   "execution_count": 9,
   "id": "0721115c-725b-46d5-b417-6330873bd095",
   "metadata": {},
   "outputs": [
    {
     "data": {
      "text/plain": [
       "array([0.97852874, 0.50221642])"
      ]
     },
     "execution_count": 9,
     "metadata": {},
     "output_type": "execute_result"
    }
   ],
   "source": [
    "pdet_interpolant(np.array([[10, 10, 1],\n",
    "                           [24, 37, 5]]))"
   ]
  },
  {
   "cell_type": "code",
   "execution_count": 10,
   "id": "8532e506-f384-4823-b8a8-f21d04fab89f",
   "metadata": {},
   "outputs": [],
   "source": [
    "seed = 42\n",
    "np.random.seed(seed)\n",
    "m1test = np.random.uniform(1, 100, 1000)\n",
    "m2test = np.random.uniform(1, 100, 1000)\n",
    "ztest = np.concatenate((10 ** np.random.uniform(-2, 0, 500), np.random.uniform(1, 10, 500)))"
   ]
  },
  {
   "cell_type": "code",
   "execution_count": 11,
   "id": "9862d88b-40d7-4200-8518-861644641869",
   "metadata": {},
   "outputs": [],
   "source": [
    "interpolated_pdet = pdet_interpolant(np.vstack((m1test, m2test, ztest)).T)"
   ]
  },
  {
   "cell_type": "raw",
   "id": "aa1a0dc4-4dce-475f-9956-29cafceca539",
   "metadata": {},
   "source": [
    "pdet_test = np.array(Parallel(n_jobs=-1, verbose=11)(delayed(pdet)(m1, m2, z, n_samples=1e2, n_jobs=1) for m1, m2, z in zip(m1test, m2test, ztest)))"
   ]
  },
  {
   "cell_type": "raw",
   "id": "ebd86859-6449-436a-9984-ae6b17975a64",
   "metadata": {},
   "source": [
    "np.savez(\"data/pdet_test_nsamples_1e2_npoints_1e3_seed_42\", m1test=m1test, m2test=m2test, ztest=ztest, pdet_test=pdet_test)"
   ]
  },
  {
   "cell_type": "code",
   "execution_count": 12,
   "id": "4280f190-0be6-42fc-9fbb-e171d9843859",
   "metadata": {},
   "outputs": [],
   "source": [
    "file = np.load(\"data/pdet_test_nsamples_1e2_npoints_1e3_seed_42.npz\")\n",
    "m1test, m2test, ztest, pdet_test = [file[key] for key in file.files]"
   ]
  },
  {
   "cell_type": "code",
   "execution_count": 13,
   "id": "c7d3f77e-eb0e-4128-b5af-0d0a22a8f3b4",
   "metadata": {},
   "outputs": [
    {
     "name": "stderr",
     "output_type": "stream",
     "text": [
      "/tmp/ipykernel_3450591/3789702998.py:1: RuntimeWarning: divide by zero encountered in divide\n",
      "  rel_err = (interpolated_pdet - pdet_test) / pdet_test\n",
      "/tmp/ipykernel_3450591/3789702998.py:1: RuntimeWarning: invalid value encountered in divide\n",
      "  rel_err = (interpolated_pdet - pdet_test) / pdet_test\n"
     ]
    },
    {
     "data": {
      "image/png": "[encoded data removed]",
      "text/plain": [
       "<Figure size 2000x800 with 3 Axes>"
      ]
     },
     "metadata": {},
     "output_type": "display_data"
    },
    {
     "name": "stdout",
     "output_type": "stream",
     "text": [
      "133 88 39 30\n"
     ]
    }
   ],
   "source": [
    "rel_err = (interpolated_pdet - pdet_test) / pdet_test\n",
    "\n",
    "fig, axes = plt.subplots(nrows=1, ncols=3, figsize=(20, 8), sharey=True)\n",
    "\n",
    "for ax, grid, xlb in zip(axes, (m1test, m2test, ztest), (r'$m_1$', r'$m_2$', r'$z$')):\n",
    "    ax.scatter(grid, rel_err)\n",
    "    ax.set_xlabel(xlb)\n",
    "axes[0].set_ylabel('Relative error')\n",
    "\n",
    "plt.show()\n",
    "\n",
    "print(*[np.sum(rel_err > lv) for lv in (0.05, 0.1, 0.5, 1)])"
   ]
  }
 ],
 "metadata": {
  "kernelspec": {
   "display_name": "Python 3 (ipykernel)",
   "language": "python",
   "name": "python3"
  },
  "language_info": {
   "codemirror_mode": {
    "name": "ipython",
    "version": 3
   },
   "file_extension": ".py",
   "mimetype": "text/x-python",
   "name": "python",
   "nbconvert_exporter": "python",
   "pygments_lexer": "ipython3",
   "version": "3.11.5"
  }
 },
 "nbformat": 4,
 "nbformat_minor": 5
}
