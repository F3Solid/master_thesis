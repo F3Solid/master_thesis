{
 "cells": [
  {
   "cell_type": "code",
   "execution_count": 1,
   "id": "f89927cb-5205-4ca6-9091-d6906bcec932",
   "metadata": {},
   "outputs": [
    {
     "name": "stderr",
     "output_type": "stream",
     "text": [
      "/data/fdesanti/fleto/master_thesis/box/lib/python3.11/site-packages/gwbench/basic_relations.py:20: UserWarning: Wswiglal-redir-stdio:\n",
      "\n",
      "SWIGLAL standard output/error redirection is enabled in IPython.\n",
      "This may lead to performance penalties. To disable locally, use:\n",
      "\n",
      "with lal.no_swig_redirect_standard_output_error():\n",
      "    ...\n",
      "\n",
      "To disable globally, use:\n",
      "\n",
      "lal.swig_redirect_standard_output_error(False)\n",
      "\n",
      "Note however that this will likely lead to error messages from\n",
      "LAL functions being either misdirected or lost when called from\n",
      "Jupyter notebooks.\n",
      "\n",
      "To suppress this warning, use:\n",
      "\n",
      "import warnings\n",
      "warnings.filterwarnings(\"ignore\", \"Wswiglal-redir-stdio\")\n",
      "import lal\n",
      "\n",
      "  from lal import GreenwichMeanSiderealTime\n",
      "WARNING:root:Opening existing PopSummary file named data/GWTC4/BBHSpin_MagTruncnormIidTiltIsotropicTruncnormNid.h5. To update anything in the file, use `set` functions\n"
     ]
    }
   ],
   "source": [
    "import numpy as np\n",
    "from scipy.interpolate import RegularGridInterpolator\n",
    "import matplotlib.pyplot as plt\n",
    "import matplotlib as mpl\n",
    "from comp_pdet import pdet\n",
    "from tqdm.auto import tqdm\n",
    "from joblib import Parallel, delayed, cpu_count\n",
    "import logging"
   ]
  },
  {
   "cell_type": "code",
   "execution_count": 2,
   "id": "c8cd64d8-c59c-4cd6-8a50-4bcbb170af82",
   "metadata": {},
   "outputs": [
    {
     "name": "stderr",
     "output_type": "stream",
     "text": [
      "WARNING:root:Opening existing PopSummary file named data/GWTC4/BBHSpin_MagTruncnormIidTiltIsotropicTruncnormNid.h5. To update anything in the file, use `set` functions\n",
      "WARNING:root:Opening existing PopSummary file named data/GWTC4/BBHSpin_MagTruncnormIidTiltIsotropicTruncnormNid.h5. To update anything in the file, use `set` functions\n",
      "WARNING:root:Opening existing PopSummary file named data/GWTC4/BBHSpin_MagTruncnormIidTiltIsotropicTruncnormNid.h5. To update anything in the file, use `set` functions\n",
      "WARNING:root:Opening existing PopSummary file named data/GWTC4/BBHSpin_MagTruncnormIidTiltIsotropicTruncnormNid.h5. To update anything in the file, use `set` functions\n",
      "WARNING:root:Opening existing PopSummary file named data/GWTC4/BBHSpin_MagTruncnormIidTiltIsotropicTruncnormNid.h5. To update anything in the file, use `set` functions\n",
      "WARNING:root:Opening existing PopSummary file named data/GWTC4/BBHSpin_MagTruncnormIidTiltIsotropicTruncnormNid.h5. To update anything in the file, use `set` functions\n",
      "WARNING:root:Opening existing PopSummary file named data/GWTC4/BBHSpin_MagTruncnormIidTiltIsotropicTruncnormNid.h5. To update anything in the file, use `set` functions\n",
      "WARNING:root:Opening existing PopSummary file named data/GWTC4/BBHSpin_MagTruncnormIidTiltIsotropicTruncnormNid.h5. To update anything in the file, use `set` functions\n",
      "WARNING:root:Opening existing PopSummary file named data/GWTC4/BBHSpin_MagTruncnormIidTiltIsotropicTruncnormNid.h5. To update anything in the file, use `set` functions\n",
      "WARNING:root:Opening existing PopSummary file named data/GWTC4/BBHSpin_MagTruncnormIidTiltIsotropicTruncnormNid.h5. To update anything in the file, use `set` functions\n",
      "WARNING:root:Opening existing PopSummary file named data/GWTC4/BBHSpin_MagTruncnormIidTiltIsotropicTruncnormNid.h5. To update anything in the file, use `set` functions\n",
      "WARNING:root:Opening existing PopSummary file named data/GWTC4/BBHSpin_MagTruncnormIidTiltIsotropicTruncnormNid.h5. To update anything in the file, use `set` functions\n",
      "WARNING:root:Opening existing PopSummary file named data/GWTC4/BBHSpin_MagTruncnormIidTiltIsotropicTruncnormNid.h5. To update anything in the file, use `set` functions\n",
      "WARNING:root:Opening existing PopSummary file named data/GWTC4/BBHSpin_MagTruncnormIidTiltIsotropicTruncnormNid.h5. To update anything in the file, use `set` functions\n",
      "WARNING:root:Opening existing PopSummary file named data/GWTC4/BBHSpin_MagTruncnormIidTiltIsotropicTruncnormNid.h5. To update anything in the file, use `set` functions\n",
      "WARNING:root:Opening existing PopSummary file named data/GWTC4/BBHSpin_MagTruncnormIidTiltIsotropicTruncnormNid.h5. To update anything in the file, use `set` functions\n",
      "WARNING:root:Opening existing PopSummary file named data/GWTC4/BBHSpin_MagTruncnormIidTiltIsotropicTruncnormNid.h5. To update anything in the file, use `set` functions\n",
      "WARNING:root:Opening existing PopSummary file named data/GWTC4/BBHSpin_MagTruncnormIidTiltIsotropicTruncnormNid.h5. To update anything in the file, use `set` functions\n",
      "WARNING:root:Opening existing PopSummary file named data/GWTC4/BBHSpin_MagTruncnormIidTiltIsotropicTruncnormNid.h5. To update anything in the file, use `set` functions\n",
      "WARNING:root:Opening existing PopSummary file named data/GWTC4/BBHSpin_MagTruncnormIidTiltIsotropicTruncnormNid.h5. To update anything in the file, use `set` functions\n",
      "WARNING:root:Opening existing PopSummary file named data/GWTC4/BBHSpin_MagTruncnormIidTiltIsotropicTruncnormNid.h5. To update anything in the file, use `set` functions\n",
      "WARNING:root:Opening existing PopSummary file named data/GWTC4/BBHSpin_MagTruncnormIidTiltIsotropicTruncnormNid.h5. To update anything in the file, use `set` functions\n",
      "WARNING:root:Opening existing PopSummary file named data/GWTC4/BBHSpin_MagTruncnormIidTiltIsotropicTruncnormNid.h5. To update anything in the file, use `set` functions\n",
      "WARNING:root:Opening existing PopSummary file named data/GWTC4/BBHSpin_MagTruncnormIidTiltIsotropicTruncnormNid.h5. To update anything in the file, use `set` functions\n",
      "WARNING:root:Opening existing PopSummary file named data/GWTC4/BBHSpin_MagTruncnormIidTiltIsotropicTruncnormNid.h5. To update anything in the file, use `set` functions\n",
      "WARNING:root:Opening existing PopSummary file named data/GWTC4/BBHSpin_MagTruncnormIidTiltIsotropicTruncnormNid.h5. To update anything in the file, use `set` functions\n",
      "WARNING:root:Opening existing PopSummary file named data/GWTC4/BBHSpin_MagTruncnormIidTiltIsotropicTruncnormNid.h5. To update anything in the file, use `set` functions\n",
      "WARNING:root:Opening existing PopSummary file named data/GWTC4/BBHSpin_MagTruncnormIidTiltIsotropicTruncnormNid.h5. To update anything in the file, use `set` functions\n",
      "WARNING:root:Opening existing PopSummary file named data/GWTC4/BBHSpin_MagTruncnormIidTiltIsotropicTruncnormNid.h5. To update anything in the file, use `set` functions\n",
      "WARNING:root:Opening existing PopSummary file named data/GWTC4/BBHSpin_MagTruncnormIidTiltIsotropicTruncnormNid.h5. To update anything in the file, use `set` functions\n",
      "WARNING:root:Opening existing PopSummary file named data/GWTC4/BBHSpin_MagTruncnormIidTiltIsotropicTruncnormNid.h5. To update anything in the file, use `set` functions\n",
      "WARNING:root:Opening existing PopSummary file named data/GWTC4/BBHSpin_MagTruncnormIidTiltIsotropicTruncnormNid.h5. To update anything in the file, use `set` functions\n",
      "WARNING:root:Opening existing PopSummary file named data/GWTC4/BBHSpin_MagTruncnormIidTiltIsotropicTruncnormNid.h5. To update anything in the file, use `set` functions\n",
      "WARNING:root:Opening existing PopSummary file named data/GWTC4/BBHSpin_MagTruncnormIidTiltIsotropicTruncnormNid.h5. To update anything in the file, use `set` functions\n",
      "WARNING:root:Opening existing PopSummary file named data/GWTC4/BBHSpin_MagTruncnormIidTiltIsotropicTruncnormNid.h5. To update anything in the file, use `set` functions\n",
      "WARNING:root:Opening existing PopSummary file named data/GWTC4/BBHSpin_MagTruncnormIidTiltIsotropicTruncnormNid.h5. To update anything in the file, use `set` functions\n",
      "WARNING:root:Opening existing PopSummary file named data/GWTC4/BBHSpin_MagTruncnormIidTiltIsotropicTruncnormNid.h5. To update anything in the file, use `set` functions\n",
      "WARNING:root:Opening existing PopSummary file named data/GWTC4/BBHSpin_MagTruncnormIidTiltIsotropicTruncnormNid.h5. To update anything in the file, use `set` functions\n",
      "WARNING:root:Opening existing PopSummary file named data/GWTC4/BBHSpin_MagTruncnormIidTiltIsotropicTruncnormNid.h5. To update anything in the file, use `set` functions\n",
      "WARNING:root:Opening existing PopSummary file named data/GWTC4/BBHSpin_MagTruncnormIidTiltIsotropicTruncnormNid.h5. To update anything in the file, use `set` functions\n",
      "WARNING:root:Opening existing PopSummary file named data/GWTC4/BBHSpin_MagTruncnormIidTiltIsotropicTruncnormNid.h5. To update anything in the file, use `set` functions\n",
      "WARNING:root:Opening existing PopSummary file named data/GWTC4/BBHSpin_MagTruncnormIidTiltIsotropicTruncnormNid.h5. To update anything in the file, use `set` functions\n",
      "WARNING:root:Opening existing PopSummary file named data/GWTC4/BBHSpin_MagTruncnormIidTiltIsotropicTruncnormNid.h5. To update anything in the file, use `set` functions\n",
      "WARNING:root:Opening existing PopSummary file named data/GWTC4/BBHSpin_MagTruncnormIidTiltIsotropicTruncnormNid.h5. To update anything in the file, use `set` functions\n",
      "WARNING:root:Opening existing PopSummary file named data/GWTC4/BBHSpin_MagTruncnormIidTiltIsotropicTruncnormNid.h5. To update anything in the file, use `set` functions\n",
      "WARNING:root:Opening existing PopSummary file named data/GWTC4/BBHSpin_MagTruncnormIidTiltIsotropicTruncnormNid.h5. To update anything in the file, use `set` functions\n",
      "WARNING:root:Opening existing PopSummary file named data/GWTC4/BBHSpin_MagTruncnormIidTiltIsotropicTruncnormNid.h5. To update anything in the file, use `set` functions\n",
      "WARNING:root:Opening existing PopSummary file named data/GWTC4/BBHSpin_MagTruncnormIidTiltIsotropicTruncnormNid.h5. To update anything in the file, use `set` functions\n",
      "WARNING:root:Opening existing PopSummary file named data/GWTC4/BBHSpin_MagTruncnormIidTiltIsotropicTruncnormNid.h5. To update anything in the file, use `set` functions\n",
      "WARNING:root:Opening existing PopSummary file named data/GWTC4/BBHSpin_MagTruncnormIidTiltIsotropicTruncnormNid.h5. To update anything in the file, use `set` functions\n",
      "WARNING:root:Opening existing PopSummary file named data/GWTC4/BBHSpin_MagTruncnormIidTiltIsotropicTruncnormNid.h5. To update anything in the file, use `set` functions\n",
      "WARNING:root:Opening existing PopSummary file named data/GWTC4/BBHSpin_MagTruncnormIidTiltIsotropicTruncnormNid.h5. To update anything in the file, use `set` functions\n",
      "WARNING:root:Opening existing PopSummary file named data/GWTC4/BBHSpin_MagTruncnormIidTiltIsotropicTruncnormNid.h5. To update anything in the file, use `set` functions\n",
      "WARNING:root:Opening existing PopSummary file named data/GWTC4/BBHSpin_MagTruncnormIidTiltIsotropicTruncnormNid.h5. To update anything in the file, use `set` functions\n",
      "WARNING:root:Opening existing PopSummary file named data/GWTC4/BBHSpin_MagTruncnormIidTiltIsotropicTruncnormNid.h5. To update anything in the file, use `set` functions\n",
      "WARNING:root:Opening existing PopSummary file named data/GWTC4/BBHSpin_MagTruncnormIidTiltIsotropicTruncnormNid.h5. To update anything in the file, use `set` functions\n",
      "WARNING:root:Opening existing PopSummary file named data/GWTC4/BBHSpin_MagTruncnormIidTiltIsotropicTruncnormNid.h5. To update anything in the file, use `set` functions\n",
      "WARNING:root:Opening existing PopSummary file named data/GWTC4/BBHSpin_MagTruncnormIidTiltIsotropicTruncnormNid.h5. To update anything in the file, use `set` functions\n",
      "WARNING:root:Opening existing PopSummary file named data/GWTC4/BBHSpin_MagTruncnormIidTiltIsotropicTruncnormNid.h5. To update anything in the file, use `set` functions\n",
      "WARNING:root:Opening existing PopSummary file named data/GWTC4/BBHSpin_MagTruncnormIidTiltIsotropicTruncnormNid.h5. To update anything in the file, use `set` functions\n",
      "WARNING:root:Opening existing PopSummary file named data/GWTC4/BBHSpin_MagTruncnormIidTiltIsotropicTruncnormNid.h5. To update anything in the file, use `set` functions\n",
      "WARNING:root:Opening existing PopSummary file named data/GWTC4/BBHSpin_MagTruncnormIidTiltIsotropicTruncnormNid.h5. To update anything in the file, use `set` functions\n",
      "WARNING:root:Opening existing PopSummary file named data/GWTC4/BBHSpin_MagTruncnormIidTiltIsotropicTruncnormNid.h5. To update anything in the file, use `set` functions\n",
      "WARNING:root:Opening existing PopSummary file named data/GWTC4/BBHSpin_MagTruncnormIidTiltIsotropicTruncnormNid.h5. To update anything in the file, use `set` functions\n",
      "WARNING:root:Opening existing PopSummary file named data/GWTC4/BBHSpin_MagTruncnormIidTiltIsotropicTruncnormNid.h5. To update anything in the file, use `set` functions\n",
      "WARNING:root:Opening existing PopSummary file named data/GWTC4/BBHSpin_MagTruncnormIidTiltIsotropicTruncnormNid.h5. To update anything in the file, use `set` functions\n",
      "WARNING:root:Opening existing PopSummary file named data/GWTC4/BBHSpin_MagTruncnormIidTiltIsotropicTruncnormNid.h5. To update anything in the file, use `set` functions\n",
      "WARNING:root:Opening existing PopSummary file named data/GWTC4/BBHSpin_MagTruncnormIidTiltIsotropicTruncnormNid.h5. To update anything in the file, use `set` functions\n",
      "WARNING:root:Opening existing PopSummary file named data/GWTC4/BBHSpin_MagTruncnormIidTiltIsotropicTruncnormNid.h5. To update anything in the file, use `set` functions\n",
      "WARNING:root:Opening existing PopSummary file named data/GWTC4/BBHSpin_MagTruncnormIidTiltIsotropicTruncnormNid.h5. To update anything in the file, use `set` functions\n",
      "WARNING:root:Opening existing PopSummary file named data/GWTC4/BBHSpin_MagTruncnormIidTiltIsotropicTruncnormNid.h5. To update anything in the file, use `set` functions\n",
      "WARNING:root:Opening existing PopSummary file named data/GWTC4/BBHSpin_MagTruncnormIidTiltIsotropicTruncnormNid.h5. To update anything in the file, use `set` functions\n",
      "WARNING:root:Opening existing PopSummary file named data/GWTC4/BBHSpin_MagTruncnormIidTiltIsotropicTruncnormNid.h5. To update anything in the file, use `set` functions\n",
      "WARNING:root:Opening existing PopSummary file named data/GWTC4/BBHSpin_MagTruncnormIidTiltIsotropicTruncnormNid.h5. To update anything in the file, use `set` functions\n",
      "WARNING:root:Opening existing PopSummary file named data/GWTC4/BBHSpin_MagTruncnormIidTiltIsotropicTruncnormNid.h5. To update anything in the file, use `set` functions\n",
      "WARNING:root:Opening existing PopSummary file named data/GWTC4/BBHSpin_MagTruncnormIidTiltIsotropicTruncnormNid.h5. To update anything in the file, use `set` functions\n",
      "WARNING:root:Opening existing PopSummary file named data/GWTC4/BBHSpin_MagTruncnormIidTiltIsotropicTruncnormNid.h5. To update anything in the file, use `set` functions\n",
      "WARNING:root:Opening existing PopSummary file named data/GWTC4/BBHSpin_MagTruncnormIidTiltIsotropicTruncnormNid.h5. To update anything in the file, use `set` functions\n",
      "WARNING:root:Opening existing PopSummary file named data/GWTC4/BBHSpin_MagTruncnormIidTiltIsotropicTruncnormNid.h5. To update anything in the file, use `set` functions\n",
      "WARNING:root:Opening existing PopSummary file named data/GWTC4/BBHSpin_MagTruncnormIidTiltIsotropicTruncnormNid.h5. To update anything in the file, use `set` functions\n",
      "WARNING:root:Opening existing PopSummary file named data/GWTC4/BBHSpin_MagTruncnormIidTiltIsotropicTruncnormNid.h5. To update anything in the file, use `set` functions\n",
      "WARNING:root:Opening existing PopSummary file named data/GWTC4/BBHSpin_MagTruncnormIidTiltIsotropicTruncnormNid.h5. To update anything in the file, use `set` functions\n",
      "WARNING:root:Opening existing PopSummary file named data/GWTC4/BBHSpin_MagTruncnormIidTiltIsotropicTruncnormNid.h5. To update anything in the file, use `set` functions\n",
      "WARNING:root:Opening existing PopSummary file named data/GWTC4/BBHSpin_MagTruncnormIidTiltIsotropicTruncnormNid.h5. To update anything in the file, use `set` functions\n",
      "WARNING:root:Opening existing PopSummary file named data/GWTC4/BBHSpin_MagTruncnormIidTiltIsotropicTruncnormNid.h5. To update anything in the file, use `set` functions\n",
      "WARNING:root:Opening existing PopSummary file named data/GWTC4/BBHSpin_MagTruncnormIidTiltIsotropicTruncnormNid.h5. To update anything in the file, use `set` functions\n",
      "WARNING:root:Opening existing PopSummary file named data/GWTC4/BBHSpin_MagTruncnormIidTiltIsotropicTruncnormNid.h5. To update anything in the file, use `set` functions\n",
      "WARNING:root:Opening existing PopSummary file named data/GWTC4/BBHSpin_MagTruncnormIidTiltIsotropicTruncnormNid.h5. To update anything in the file, use `set` functions\n",
      "WARNING:root:Opening existing PopSummary file named data/GWTC4/BBHSpin_MagTruncnormIidTiltIsotropicTruncnormNid.h5. To update anything in the file, use `set` functions\n",
      "WARNING:root:Opening existing PopSummary file named data/GWTC4/BBHSpin_MagTruncnormIidTiltIsotropicTruncnormNid.h5. To update anything in the file, use `set` functions\n",
      "WARNING:root:Opening existing PopSummary file named data/GWTC4/BBHSpin_MagTruncnormIidTiltIsotropicTruncnormNid.h5. To update anything in the file, use `set` functions\n",
      "WARNING:root:Opening existing PopSummary file named data/GWTC4/BBHSpin_MagTruncnormIidTiltIsotropicTruncnormNid.h5. To update anything in the file, use `set` functions\n",
      "WARNING:root:Opening existing PopSummary file named data/GWTC4/BBHSpin_MagTruncnormIidTiltIsotropicTruncnormNid.h5. To update anything in the file, use `set` functions\n",
      "WARNING:root:Opening existing PopSummary file named data/GWTC4/BBHSpin_MagTruncnormIidTiltIsotropicTruncnormNid.h5. To update anything in the file, use `set` functions\n",
      "WARNING:root:Opening existing PopSummary file named data/GWTC4/BBHSpin_MagTruncnormIidTiltIsotropicTruncnormNid.h5. To update anything in the file, use `set` functions\n",
      "WARNING:root:Opening existing PopSummary file named data/GWTC4/BBHSpin_MagTruncnormIidTiltIsotropicTruncnormNid.h5. To update anything in the file, use `set` functions\n"
     ]
    },
    {
     "data": {
      "text/plain": [
       "0.7169"
      ]
     },
     "execution_count": 2,
     "metadata": {},
     "output_type": "execute_result"
    }
   ],
   "source": [
    "pdet(23, 36, 3.75, n_samples=1e4)"
   ]
  },
  {
   "cell_type": "markdown",
   "id": "4f85747a-4884-4173-b991-442d242baaed",
   "metadata": {},
   "source": [
    "Combinations of masses and redshifts for which the detection probability is virtually 1 (0.999#) or 0 (0.000#) for a CE (US A location) + ET (Sardinia) network and SNR threshold $8 \\sqrt{2}$:\n",
    "\n",
    "* $p_\\text{det} \\simeq 1$\n",
    "    * Anything with $z \\leq 0.1$ (and $m_\\text{min} \\geq 1$)\n",
    "    * Anything with $z \\leq 1$ and $m_\\text{min} \\geq 30$\n",
    "* $p_\\text{det} \\simeq 0$\n",
    "    * Anything with $z \\geq 6$ and $m_\\text{max} \\leq 10$"
   ]
  },
  {
   "cell_type": "code",
   "execution_count": 3,
   "id": "77571f15-c114-46c6-9a8f-de62bfc72aba",
   "metadata": {},
   "outputs": [],
   "source": [
    "z_max_m_min = ((0.1, 1), (1, 30))\n",
    "z_min_m_max = ((6, 10),)"
   ]
  },
  {
   "cell_type": "code",
   "execution_count": 4,
   "id": "dc8a3f41-7c79-4b8a-a52c-b94aa6dcb1b3",
   "metadata": {},
   "outputs": [],
   "source": [
    "m1grid = np.concatenate((np.linspace(1, 5, 15, endpoint=False),\n",
    "                         np.linspace(5, 15, 30, endpoint=False),\n",
    "                         np.linspace(15, 30, 15, endpoint=False),\n",
    "                         np.linspace(30, 40, 30, endpoint=False),\n",
    "                         np.linspace(40, 50, 10)))\n",
    "m2grid = np.copy(m1grid)\n",
    "zgrid = np.concatenate((np.geomspace(1e-4, 1e-1, 200, endpoint=False),\n",
    "                        np.geomspace(1e-1, 1, 50, endpoint=False),\n",
    "                        np.geomspace(1, 10, 50)))\n",
    "\n",
    "grids = (m1grid, m2grid, zgrid)\n",
    "pdet_for_interpolant = np.zeros([len(grid) for grid in grids])"
   ]
  },
  {
   "cell_type": "code",
   "execution_count": 5,
   "id": "1e140457-a1f7-484f-b95a-372349869257",
   "metadata": {},
   "outputs": [
    {
     "data": {
      "application/vnd.jupyter.widget-view+json": {
       "model_id": "6b1507decda54873a3f5cb0c6def4d18",
       "version_major": 2,
       "version_minor": 0
      },
      "text/plain": [
       "Populating pdet_for_interpolant and meshgrid:   0%|          | 0/1515000 [00:00<?, ?it/s]"
      ]
     },
     "metadata": {},
     "output_type": "display_data"
    },
    {
     "name": "stdout",
     "output_type": "stream",
     "text": [
      "3000000 (453494, 3)\n"
     ]
    }
   ],
   "source": [
    "meshcoord = []\n",
    "meshgrid = []\n",
    "\n",
    "n_iter = 0\n",
    "for i, m1 in enumerate(m1grid):\n",
    "    for j, m2 in zip(range(i, len(m2grid)), m2grid[i:]):\n",
    "        for k, z in enumerate(zgrid):\n",
    "            n_iter += 1\n",
    "\n",
    "with tqdm(total=n_iter, desc=\"Populating pdet_for_interpolant and meshgrid\") as pbar:\n",
    "    for i, m1 in enumerate(m1grid):\n",
    "        for j, m2 in zip(range(i, len(m2grid)), m2grid[i:]):\n",
    "            for k, z in enumerate(zgrid):\n",
    "                already_known=False\n",
    "                m12_min = m1 if m1 <= m2 else m2\n",
    "                for z_max, m_min in z_max_m_min:\n",
    "                    if z <= z_max and m12_min >= m_min:\n",
    "                        pdet_for_interpolant[i, j, k] = 1\n",
    "                        pdet_for_interpolant[j, i, k] = 1\n",
    "                        already_known=True\n",
    "                if not already_known:\n",
    "                    m12_max = m1 if m1 >= m2 else m2\n",
    "                    for z_min, m_max in z_min_m_max:\n",
    "                        if z >= z_min and m12_max <= m_max:\n",
    "                            already_known=True\n",
    "                if not already_known:\n",
    "                    meshcoord.append((i, j, k))\n",
    "                    meshgrid.append((m1 ,m2, z))\n",
    "                pbar.update(1)\n",
    "\n",
    "meshcoord = np.array(meshcoord)\n",
    "meshgrid = np.array(meshgrid)\n",
    "\n",
    "# Shuffle the arrays to better ditribute load across processors\n",
    "p = np.random.permutation(len(meshcoord))\n",
    "\n",
    "meshcoord = meshcoord[p]\n",
    "meshgrid = meshgrid[p]\n",
    "\n",
    "print(np.prod(pdet_for_interpolant.shape), meshcoord.shape)"
   ]
  },
  {
   "cell_type": "raw",
   "id": "3939fa78-6e0e-4d08-a9e8-baa70ca35144",
   "metadata": {},
   "source": [
    "# Little script to check the unicity of every unordered (i, j) pair in the meshcoord\n",
    "collected_ijk = []\n",
    "for i, j, k in tqdm(meshcoord):\n",
    "    if (j, i, k) not in collected_ijk:\n",
    "        collected_ijk.append((i, j, k))\n",
    "collected_ijk = np.array(collected_ijk)\n",
    "print(collected_ijk.shape)"
   ]
  },
  {
   "cell_type": "code",
   "execution_count": 6,
   "id": "a4ebc195-05b3-4431-9969-b8cc061d1c2b",
   "metadata": {},
   "outputs": [],
   "source": [
    "def compute_pdet_for_interpolant(meshgrid, meshcoord=None, m1grid=None, m2grid=None, zgrid=None, pdet_for_interpolant=None,\n",
    "                                 n_sample=1e3, n_jobs=-1, verbose=11,\n",
    "                                 from_checkpoint=False, save_checkpoint=False, checkpoint_file_path=\"\", save_step=-1):\n",
    "    logger = logging.getLogger(__name__)\n",
    "    logger.setLevel(logging.INFO)\n",
    "    \n",
    "    logger.propagate = False\n",
    "    \n",
    "    if not logger.handlers:\n",
    "        file_handler = logging.FileHandler(\"pdet_gwbench_grid_making.log\")\n",
    "        file_handler.setLevel(logging.INFO)\n",
    "        \n",
    "        formatter = logging.Formatter(\"%(asctime)s - %(name)s - %(levelname)s - %(message)s\")\n",
    "        file_handler.setFormatter(formatter)\n",
    "        \n",
    "        logger.addHandler(file_handler)\n",
    "        \n",
    "    chunks_integrity_error_msg = \"Ops, something went wrong while splitting meshgrid and meshcoords. Hopefully you will never see this message.\"\n",
    "    save_step = -save_step * cpu_count() - 1 if save_step < 0 else save_step\n",
    "    \n",
    "    if not from_checkpoint:\n",
    "        if not save_checkpoint: # Just return meshevalues\n",
    "            meshvalues = np.array(Parallel(n_jobs=n_jobs, verbose=verbose)(delayed(pdet)(m1, m2, z, n_samples=n_sample, n_jobs=1)\n",
    "                                                                           for m1, m2, z in meshgrid))\n",
    "            return meshvalues\n",
    "        else:\n",
    "            # Check parameters\n",
    "            assert checkpoint_file_path != \"\", \"Provide a checkpoint file path. Extension is not needed if the checkpoint file doesn't exist yet.\"\n",
    "            assert meshcoord is not None, \"Provide also the meshcoord array. It will be saved in the checkpoint file.\"\n",
    "            assert meshgrid.shape == meshcoord.shape, \"Check the shapes of the arrays.\"\n",
    "            pars_present = [par is not None for par in (m1grid, m2grid, zgrid, pdet_for_interpolant)]\n",
    "            pars_are_present = True\n",
    "            for par_is_present in pars_present:\n",
    "                pars_are_present = pars_are_present and par_is_present\n",
    "            assert pars_are_present, \"Provide also the m1grid, m2grid, zgrid and pdet_for_interpolant arrays. They will be saved in the checkpoint file.\"\n",
    "            assert 1 <= save_step <= len(meshgrid), f\"The saving step must be greater than 1 and smaller than the length of meshgrid ({len(meshgrid)}).\"\n",
    "            logger.info(\"Starting pdet computation with gwbench on the provided m1, m2, z grid using checkpoint file...\")\n",
    "            logger.info(f\"Splitting grids into chunks with length of roughly {save_step}.\")\n",
    "            # Split the grid into chunks based on save_step parameter\n",
    "            mgridchunks = np.array_split(meshgrid, int(len(meshgrid) / save_step))\n",
    "            mcoordchunks = np.array_split(meshcoord, int(len(meshcoord) / save_step))\n",
    "            # Check chunks integrity\n",
    "            assert sum([len(grid) for grid in mgridchunks]) == len(meshgrid) and sum([len(grid) for grid in mcoordchunks]) == len(meshcoord), chunks_integrity_error_msg\n",
    "            chunks_lengths = [len(chunk) for chunk in mgridchunks]\n",
    "            logger.info(f\"Grids with length of {len(meshgrid)} divided into {len(mgridchunks)} chunks. \" +\n",
    "                        f\"{chunks_lengths.count(min(chunks_lengths))} with length {min(chunks_lengths)} and \" +\n",
    "                        f\"{chunks_lengths.count(max(chunks_lengths))} with length {max(chunks_lengths)}\")\n",
    "            \n",
    "            # Initialize results variables\n",
    "            completed_tasks = 0\n",
    "            meshvalues = np.array([])\n",
    "\n",
    "            # Initialize checkpoint file.\n",
    "            # n_sample and completed_tasks are not arrays, therefore you will need to int() the 0-dim array associated with them while reading the file\n",
    "            logger.info(f\"Initializing checkpoint file at {checkpoint_file_path}.\")\n",
    "            np.savez(checkpoint_file_path, m1grid=m1grid, m2grid=m2grid, zgrid=zgrid, pdet_for_interpolant=pdet_for_interpolant,\n",
    "                     meshgrid=meshgrid, meshcoord=meshcoord, n_sample=n_sample, meshvalues=meshvalues, completed_tasks=completed_tasks)\n",
    "            logger.info(f\"Checkpoint file created at {checkpoint_file_path}.\")\n",
    "            \n",
    "            # Compute and save the meshvalues for each chunk\n",
    "            logger.info(\"Starting pdet computation...\")\n",
    "            for i, (mgrid, mcoord) in enumerate(zip(mgridchunks, mcoordchunks)):\n",
    "                assert len(mgrid) == len(mcoord), chunks_integrity_error_msg\n",
    "                logger.info(f\"Working on chunk n. {i + 1} of {len(mgridchunks)}. {completed_tasks} of {len(meshgrid)} tasks completed.\")\n",
    "                mvalues = np.array(Parallel(n_jobs=n_jobs, verbose=verbose)(delayed(pdet)(m1, m2, z, n_samples=n_sample, n_jobs=1)\n",
    "                                                                            for m1, m2, z in mgrid))\n",
    "                meshvalues = np.concatenate((meshvalues, mvalues))\n",
    "                completed_tasks += len(mgrid)\n",
    "                np.savez(checkpoint_file_path, m1grid=m1grid, m2grid=m2grid, zgrid=zgrid, pdet_for_interpolant=pdet_for_interpolant,\n",
    "                         meshgrid=meshgrid, meshcoord=meshcoord, n_sample=n_sample, meshvalues=meshvalues, completed_tasks=completed_tasks)\n",
    "                logger.info(f\"Chunk n. {i + 1} completed. Progress saved.\")\n",
    "\n",
    "            logger.info(\"Computation completed.\")\n",
    "            # If everything went smooth, return meshvalues\n",
    "            return meshvalues\n",
    "    else: # Any parameter but for n_jobs, verbose and save_step will be ignored\n",
    "        assert checkpoint_file_path != \"\", \"Provide an existing checkpoint file path.\"\n",
    "        logger.info(\"Resuming pdet computation from checkpoint file...\")\n",
    "        # Load the checkpoint file\n",
    "        logger.info(f\"Loading the checkpoint file at {checkpoint_file_path}.\")\n",
    "        chk_file = np.load(checkpoint_file_path)\n",
    "        logger.info(f\"Checkpoint file at {checkpoint_file_path} loaded.\")\n",
    "        \n",
    "        # Check parameters\n",
    "        completed_tasks = int(chk_file['completed_tasks'])\n",
    "        meshgrid = chk_file['meshgrid']\n",
    "        if completed_tasks >= len(meshgrid):\n",
    "            chk_file.close()\n",
    "        assert completed_tasks < len(meshgrid), \"Checkpoint file exhausted. Read meshvalues from the file\"\n",
    "        assert 1 <= save_step <= len(meshgrid[completed_tasks:]), f\"The saving step must be greater than 1 and smaller than the length of the remaining meshgrid ({len(meshgrid[completed_tasks:])}).\"\n",
    "\n",
    "        # Load the remaining variables\n",
    "        n_sample = int(chk_file['n_sample'])\n",
    "        meshvalues = chk_file['meshvalues']\n",
    "        meshcoord = chk_file['meshcoord']\n",
    "        m1grid = chk_file['m1grid']\n",
    "        m2grid = chk_file['m2grid']\n",
    "        zgrid = chk_file['zgrid']\n",
    "        pdet_for_interpolant = chk_file['pdet_for_interpolant']\n",
    "        chk_file.close()\n",
    "\n",
    "        logger.info(f\"{len(meshgrid[completed_tasks:]) - completed_tasks} tasks remaining.\")\n",
    "\n",
    "        # Split the remaining grid into chunks based on save_step parameter\n",
    "        logger.info(f\"Splitting remaining grids into chunks with length of roughly {save_step}.\")\n",
    "        mgridchunks = np.array_split(meshgrid[completed_tasks:], int(len(meshgrid[completed_tasks:]) / save_step))\n",
    "        mcoordchunks = np.array_split(meshcoord[completed_tasks:], int(len(meshcoord[completed_tasks:]) / save_step))\n",
    "        # Check chunks integrity\n",
    "        assert sum([len(grid) for grid in mgridchunks]) == len(meshgrid[completed_tasks:]) and sum([len(grid) for grid in mcoordchunks]) == len(meshcoord[completed_tasks:]), chunks_integrity_error_msg\n",
    "        chunks_lengths = [len(chunk) for chunk in mgridchunks]\n",
    "        logger.info(f\"Remaining grids with length of {len(meshgrid[completed_tasks:])} divided into {len(mgridchunks)} chunks. \" +\n",
    "                    f\"{chunks_lengths.count(min(chunks_lengths))} with length {min(chunks_lengths)} and \" +\n",
    "                    f\"{chunks_lengths.count(max(chunks_lengths))} with length {max(chunks_lengths)}\")\n",
    "\n",
    "        # Compute and save the meshvalues for each chunk\n",
    "        logger.info(\"Resuming pdet computation...\")\n",
    "        for i, (mgrid, mcoord) in enumerate(zip(mgridchunks, mcoordchunks)):\n",
    "            assert len(mgrid) == len(mcoord), chunks_integrity_error_msg\n",
    "            logger.info(f\"Working on chunk n. {i + 1} of {len(mgridchunks)}. {completed_tasks} of {len(meshgrid)} tasks completed.\")\n",
    "            mvalues = np.array(Parallel(n_jobs=n_jobs, verbose=verbose)(delayed(pdet)(m1, m2, z, n_samples=n_sample, n_jobs=1)\n",
    "                                                                        for m1, m2, z in mgrid))\n",
    "            meshvalues = np.concatenate((meshvalues, mvalues))\n",
    "            completed_tasks += len(mgrid)\n",
    "            np.savez(checkpoint_file_path, m1grid=m1grid, m2grid=m2grid, zgrid=zgrid, pdet_for_interpolant=pdet_for_interpolant,\n",
    "                     meshgrid=meshgrid, meshcoord=meshcoord, n_sample=n_sample, meshvalues=meshvalues, completed_tasks=completed_tasks)\n",
    "            logger.info(f\"Chunk n. {i + 1} completed. Progress saved.\")\n",
    "\n",
    "        logging.info(\"Computation completed.\")\n",
    "        if completed_tasks != len(meshgrid):\n",
    "            logger.warning(f\"There is a mismatch between the length of meshgrid ({len(meshgrid)}) and the completed tasks ({completed_tasks})\")\n",
    "        # If everything went smooth, return meshvalues\n",
    "        return meshvalues"
   ]
  },
  {
   "cell_type": "raw",
   "id": "02b498a6-9830-4463-85e5-27d0baafda6a",
   "metadata": {},
   "source": [
    "meshvalues = compute_pdet_for_interpolant(meshgrid, meshcoord, m1grid, m2grid, zgrid, pdet_for_interpolant,\n",
    "                                          n_sample=5e2,\n",
    "                                          save_checkpoint=False,\n",
    "                                          save_step=-10,\n",
    "                                          checkpoint_file_path=\"data/pdet_computation_checkpoint.npz\",\n",
    "                                          from_checkpoint=False)"
   ]
  },
  {
   "cell_type": "raw",
   "id": "05e8e93b-97d3-4ad5-84ab-67e4f85f0ef7",
   "metadata": {},
   "source": [
    "file = np.load(\"data/pdet_computation_checkpoint.npz\")\n",
    "\n",
    "m1grid = file['m1grid']\n",
    "m2grid = file['m2grid']\n",
    "zgrid = file['zgrid']\n",
    "pdet_for_interpolant = file['pdet_for_interpolant']\n",
    "meshcoord = file['meshcoord']\n",
    "meshvalues = file['meshvalues']\n",
    "\n",
    "file.close()"
   ]
  },
  {
   "cell_type": "raw",
   "id": "52d201d5-edf6-4cd1-b934-d3da3d37b6d3",
   "metadata": {},
   "source": [
    "for ijk, val in zip(meshcoord, meshvalues):\n",
    "    pdet_for_interpolant[*ijk] = val"
   ]
  },
  {
   "cell_type": "raw",
   "id": "7f753e5c-a5dd-482f-a0ff-8d9cd302f436",
   "metadata": {},
   "source": [
    "for ijk, val in zip(meshcoord, meshvalues):\n",
    "    i, j, k = ijk\n",
    "    pdet_for_interpolant[i, j, k] = val\n",
    "    pdet_for_interpolant[j, i, k] = val"
   ]
  },
  {
   "cell_type": "raw",
   "id": "0488a1dc-511f-444f-95f0-023277370e74",
   "metadata": {},
   "source": [
    "np.savez(\"data/pdet_nsamples_5e2_(attempt_2)\", m1grid=m1grid, m2grid=m2grid, zgrid=zgrid, pdet_for_interpolant=pdet_for_interpolant)"
   ]
  },
  {
   "cell_type": "code",
   "execution_count": 7,
   "id": "80a6b538-0a6f-45ad-8ccc-6e5a8aad092a",
   "metadata": {},
   "outputs": [],
   "source": [
    "file = np.load(\"data/pdet_nsamples_5e2_(attempt_2).npz\")\n",
    "m1grid, m2grid, zgrid, pdet_for_interpolant = [file[key] for key in file.files]\n",
    "grids = (m1grid, m2grid, zgrid)"
   ]
  },
  {
   "cell_type": "code",
   "execution_count": 8,
   "id": "f42e522f-33e5-4336-b2a2-29b118281d48",
   "metadata": {},
   "outputs": [],
   "source": [
    "pdet_interpolant = RegularGridInterpolator(grids, pdet_for_interpolant, bounds_error=False, fill_value=None,\n",
    "                                          method='linear')"
   ]
  },
  {
   "cell_type": "code",
   "execution_count": 9,
   "id": "0721115c-725b-46d5-b417-6330873bd095",
   "metadata": {},
   "outputs": [
    {
     "data": {
      "text/plain": [
       "array([0.97726316, 0.48011777])"
      ]
     },
     "execution_count": 9,
     "metadata": {},
     "output_type": "execute_result"
    }
   ],
   "source": [
    "pdet_interpolant(np.array([[10, 10, 1],\n",
    "                           [24, 37, 5]]))"
   ]
  },
  {
   "cell_type": "code",
   "execution_count": 10,
   "id": "8532e506-f384-4823-b8a8-f21d04fab89f",
   "metadata": {},
   "outputs": [],
   "source": [
    "seed = None\n",
    "np.random.seed(seed)\n",
    "m1test = np.random.uniform(1, 50, 1000)\n",
    "m2test = np.random.uniform(1, 50, 1000)\n",
    "ztest = np.concatenate((10 ** np.random.uniform(-2, 0, 200), np.random.uniform(1, 10, 800)))"
   ]
  },
  {
   "cell_type": "raw",
   "id": "019a1ceb-e979-4599-80e6-660c085b670f",
   "metadata": {},
   "source": [
    "pdet_test = compute_pdet_for_interpolant(np.vstack((m1test, m2test, ztest)).T, n_sample=5e2)"
   ]
  },
  {
   "cell_type": "raw",
   "id": "74cb67ff-5add-46cd-b6ac-8b61289fd559",
   "metadata": {},
   "source": [
    "np.savez(\"data/pdet_test_nsamples_5e2_npoints_1e3\", m1test=m1test, m2test=m2test, ztest=ztest, pdet_test=pdet_test)"
   ]
  },
  {
   "cell_type": "code",
   "execution_count": 11,
   "id": "4280f190-0be6-42fc-9fbb-e171d9843859",
   "metadata": {},
   "outputs": [],
   "source": [
    "file = np.load(\"data/pdet_test_nsamples_5e2_npoints_1e3.npz\")\n",
    "m1test, m2test, ztest, pdet_test = [file[key] for key in file.files]\n",
    "\n",
    "interpolated_pdet = pdet_interpolant(np.vstack((m1test, m2test, ztest)).T)"
   ]
  },
  {
   "cell_type": "code",
   "execution_count": 12,
   "id": "c7d3f77e-eb0e-4128-b5af-0d0a22a8f3b4",
   "metadata": {},
   "outputs": [
    {
     "name": "stderr",
     "output_type": "stream",
     "text": [
      "/tmp/ipykernel_3540018/2472596155.py:1: RuntimeWarning: divide by zero encountered in divide\n",
      "  rel_err = (interpolated_pdet - pdet_test) / pdet_test\n",
      "/tmp/ipykernel_3540018/2472596155.py:1: RuntimeWarning: invalid value encountered in divide\n",
      "  rel_err = (interpolated_pdet - pdet_test) / pdet_test\n"
     ]
    },
    {
     "data": {
      "image/png": "[encoded data removed]",
      "text/plain": [
       "<Figure size 2000x800 with 3 Axes>"
      ]
     },
     "metadata": {},
     "output_type": "display_data"
    }
   ],
   "source": [
    "rel_err = (interpolated_pdet - pdet_test) / pdet_test\n",
    "\n",
    "nan_mask, inf_mask = np.isnan(rel_err), np.isinf(rel_err)\n",
    "\n",
    "rel_err[nan_mask] = 0\n",
    "rel_err[inf_mask] = interpolated_pdet[inf_mask]\n",
    "\n",
    "fig, axes = plt.subplots(nrows=1, ncols=3, figsize=(20, 8), sharey=True)\n",
    "\n",
    "levels_masks = (np.abs(rel_err) < 0.05,\n",
    "                (np.abs(rel_err) >= 0.05) & (np.abs(rel_err) < 0.1),\n",
    "                (np.abs(rel_err) >= 0.1) & (np.abs(rel_err) < 0.5),\n",
    "                np.abs(rel_err) >= 0.5)\n",
    "levels_colors = ('green', 'orange', 'red', 'black')\n",
    "levels_labels = (r'$e_r < 0.05$: ({0})'.format(np.sum(levels_masks[0])),\n",
    "                 r'$0.05 \\leq e_r < 0.1$: ({0})'.format(np.sum(levels_masks[1])),\n",
    "                 r'$0.1 \\leq e_r < 0.5$: ({0})'.format(np.sum(levels_masks[2])),\n",
    "                 r'$e_r \\geq 0.5$: ({0})'.format(np.sum(levels_masks[3])))\n",
    "\n",
    "for ax, grid, xlb in zip(axes, (m1test, m2test, ztest), (r'$m_1$', r'$m_2$', r'$z$')):\n",
    "    for lv_mask, c, lvlb in zip(levels_masks, levels_colors, levels_labels):\n",
    "        ax.scatter(grid[lv_mask], rel_err[lv_mask], color=c, s=20, label=lvlb)\n",
    "    ax.set_xlabel(xlb)\n",
    "    ax.legend()\n",
    "    \n",
    "axes[0].set_ylabel('Relative error')\n",
    "\n",
    "plt.show()"
   ]
  }
 ],
 "metadata": {
  "kernelspec": {
   "display_name": "Python 3 (ipykernel)",
   "language": "python",
   "name": "python3"
  },
  "language_info": {
   "codemirror_mode": {
    "name": "ipython",
    "version": 3
   },
   "file_extension": ".py",
   "mimetype": "text/x-python",
   "name": "python",
   "nbconvert_exporter": "python",
   "pygments_lexer": "ipython3",
   "version": "3.11.5"
  }
 },
 "nbformat": 4,
 "nbformat_minor": 5
}
